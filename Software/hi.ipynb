{
 "cells": [
  {
   "cell_type": "code",
   "execution_count": 2,
   "metadata": {},
   "outputs": [
    {
     "name": "stdout",
     "output_type": "stream",
     "text": [
      "torch.float32\n",
      "torch.float32\n",
      "torch.float32\n",
      "torch.float64\n"
     ]
    }
   ],
   "source": [
    "import torch\n",
    "import torch.nn as nn\n",
    "import torch.nn.functional as F\n",
    "# initialzie linear layer\n",
    "linear = nn.Linear(10, 1, bias=False)\n",
    "\n",
    "# by default float32 is used as the dtype\n",
    "print(linear.weight.dtype)\n",
    "# torch.float32\n",
    "\n",
    "# create input tensor\n",
    "x = torch.randn(10, 10)\n",
    "\n",
    "# by default float32 is also used\n",
    "print(x.dtype)\n",
    "# torch.float32\n",
    "\n",
    "# linear layer works and output dtype is also float32\n",
    "out = linear(x)\n",
    "print(out.dtype)\n",
    "# torch.float32\n",
    "\n",
    "# transform to float64\n",
    "x = x.to(torch.float64)\n",
    "print(x.dtype)\n",
    "# torch.float64\n"
   ]
  }
 ],
 "metadata": {
  "kernelspec": {
   "display_name": "Python 3",
   "language": "python",
   "name": "python3"
  },
  "language_info": {
   "codemirror_mode": {
    "name": "ipython",
    "version": 3
   },
   "file_extension": ".py",
   "mimetype": "text/x-python",
   "name": "python",
   "nbconvert_exporter": "python",
   "pygments_lexer": "ipython3",
   "version": "3.10.0"
  }
 },
 "nbformat": 4,
 "nbformat_minor": 2
}
